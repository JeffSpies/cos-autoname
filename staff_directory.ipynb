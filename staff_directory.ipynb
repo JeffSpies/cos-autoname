{
 "metadata": {
  "name": "COS Staff Directory"
 },
 "nbformat": 3,
 "nbformat_minor": 0,
 "worksheets": [
  {
   "cells": [
    {
     "cell_type": "code",
     "collapsed": false,
     "input": "import gspread\nimport csv\nimport os\nimport collections\nimport pandas\nimport numpy as np",
     "language": "python",
     "metadata": {},
     "outputs": [],
     "prompt_number": 2
    },
    {
     "cell_type": "code",
     "collapsed": false,
     "input": "class Sheet:\n    def __init__(self, key, username, password):\n        gc = gspread.login(username, password)\n        sh = gc.open_by_key(sheet)\n        self.worksheets = {ws._title:ws.get_all_values() for ws in sh.worksheets()}\n    \n    def get(self, name, header=True, index=None):\n        data = self.worksheets[name]\n        start = 0\n        if header:\n            header = data[start]\n            start += 1\n        data = data[start:len(data)]\n        df = pandas.DataFrame(data, columns=header) if header else pandas.DataFrame(data)\n        if index:\n            df = df.set_index(index)\n        return df\n    \ndef extract_staff(indices, sheet):\n    list_of_lists = sheet.get('COS Staff Directory')\n    staff = collections.defaultdict(lambda: collections.defaultdict(lambda: None))\n    for row in list_of_lists[1:len(list_of_lists)]:\n        name = row[indices['atext']]\n        if name:\n            for label, index in indices.iteritems():\n                if row[index]:\n                    staff[name][label] = row[index]\n    return staff",
     "language": "python",
     "metadata": {},
     "outputs": [],
     "prompt_number": 28
    },
    {
     "cell_type": "code",
     "collapsed": false,
     "input": "def all(staff, column_name, sep=',', wrap='\"'):\n    output = []\n    for name, info in staff.iteritems():\n        if info[column_name]:\n            output.append(info[column_name])\n    return sep.join(output)\n\ndef category(staff, column_name, category, sep=\",\", wrap='\"'):\n    output = []\n    for name, info in staff.iteritems():\n        if info[column_name] and info[category]:\n            output.append(info[column_name])\n    return sep.join(output)",
     "language": "python",
     "metadata": {},
     "outputs": [],
     "prompt_number": 29
    },
    {
     "cell_type": "code",
     "collapsed": false,
     "input": "def write_file(path, staff, column_name, add=[]):\n    with open(os.path.join(path,'cos_'+column_name+'.csv'), 'wb') as csvfile:\n        w = csv.writer(csvfile, delimiter=',', quoting=False)\n        for name, info in staff.iteritems():\n            if info[column_name]:\n                w.writerow([name, info[column_name]])\n        w.writerow(['all', all(staff, column_name)])\n        for row in add:\n            w.writerow(row)",
     "language": "python",
     "metadata": {},
     "outputs": [],
     "prompt_number": 30
    },
    {
     "cell_type": "code",
     "collapsed": false,
     "input": "\n\nimport ConfigParser\n\nconfig = ConfigParser.ConfigParser()\nconfig.read('config.json')\n\nusername = config.get('spreadsheet', 'username')\npassword = config.get('spreadsheet', 'password')\nsheet = config.get('spreadsheet', 'sheet')\n\n# indices = {\n#     'cos_email':3,\n#     'google_email': 4,\n#     'github': 6,\n#     'atext': 7,\n#     'community': 10,\n#     'metascience': 11,\n#     'infrastructure': 12,\n#     'steering': 13\n# }\n\nsheet = Sheet(sheet, username, password)\n# staff = extract_staff(indices, sheet)\n# write_file(path, staff, 'github')\n# write_file(path, staff, 'cos_email')\n# write_file(path, staff, 'google_email', add=[[name, category(staff, 'google_email', name)] for name in ['community', 'metascience', 'infrastructure', 'steering']])",
     "language": "python",
     "metadata": {},
     "outputs": [],
     "prompt_number": 48
    },
    {
     "cell_type": "code",
     "collapsed": false,
     "input": "df = sheet.get('COS Staff Directory', index=[\"AText Handle\"])\ndf = df.replace('^\\s*$', np.nan, regex=True)",
     "language": "python",
     "metadata": {},
     "outputs": [],
     "prompt_number": 34
    },
    {
     "cell_type": "markdown",
     "metadata": {},
     "source": "The following block is the atext handle + github"
    },
    {
     "cell_type": "code",
     "collapsed": false,
     "input": "def atext_github():\n    return df[df['Github'].notnull()]['Github']\n\ndef atext_github_categories():\n    return\n\n# with open(filename) as f:\n#     f.write(atext_github())\n#     f.write(",
     "language": "python",
     "metadata": {},
     "outputs": [],
     "prompt_number": 38
    },
    {
     "cell_type": "code",
     "collapsed": false,
     "input": "# Atext, Github\n# Atext, cos email\n# Atext, gmail\n#   jeff, jspies@gmail.com\n#   community, \"\"\n#   metascience,\"erin@gmail.com,denise@gmail.com\"",
     "language": "python",
     "metadata": {},
     "outputs": [],
     "prompt_number": 39
    },
    {
     "cell_type": "code",
     "collapsed": false,
     "input": "atext_github()",
     "language": "python",
     "metadata": {},
     "outputs": [
      {
       "metadata": {},
       "output_type": "pyout",
       "prompt_number": 40,
       "text": "AText Handle\njosh                     jmcarp\nerin                 erinbspace\nchris                 chrisseto\nandrew            AndrewSallans\njohanna                jlcohoon\nnan                   chennan47\nlyndsy              lyndsysimon\ncaner                 caneruguz\nbriann                   bnosek\nbriang             brianjgeiger\njeff                  JeffSpies\ndenise               denisehlmn\nsteve                    sloria\ncailey               caileyfitz\naustin                  asmacdo\nalex               alexschiller\njim                    mambocab\nzoe                       z-o-e\nwendy                WenTingZhu\ntanesha         Taneshahudson55\nkurtis              kmjungersen\nfabian                 fabianvf\nsamc                     shc7pw\nchrisb                 cbischak\nmichelle                   xym4\nchun                      chunw\nmichael           michael-lapuz\nharry              HarryRybacki\nazeem                azeemmufti\nlauren            geeksnglitter\nsaul                saulbrodsky\nrobertl                  rliebz\njake                 jakerose27\npatrick            patrick-ryan\nsamp                 SamPortnow\nfaye                      fh9cp\npeter                     pjfan\nName: Github, dtype: object"
      }
     ],
     "prompt_number": 40
    },
    {
     "cell_type": "markdown",
     "metadata": {},
     "source": "First\nLast\nFirst Last (Double Touching Letters)\nFirstInitial Last\nNickname (if , in list, for each in list)\n\n"
    },
    {
     "cell_type": "code",
     "collapsed": false,
     "input": "",
     "language": "python",
     "metadata": {},
     "outputs": []
    }
   ],
   "metadata": {}
  }
 ]
}